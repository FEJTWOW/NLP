{
 "cells": [
  {
   "cell_type": "code",
   "execution_count": 2,
   "id": "99a5f1df",
   "metadata": {},
   "outputs": [],
   "source": [
    "from utils import read_bills\n",
    "import regex as re\n",
    "import os\n",
    "from typing import Dict"
   ]
  },
  {
   "cell_type": "markdown",
   "id": "f39cdede",
   "metadata": {},
   "source": [
    "# Data loading"
   ]
  },
  {
   "cell_type": "code",
   "execution_count": 5,
   "id": "e8654cbc",
   "metadata": {},
   "outputs": [],
   "source": [
    "current_dir = os.getcwd()\n",
    "bills_dict = read_bills(f\"{current_dir}/data/first_ex_data/ustawy\")"
   ]
  },
  {
   "cell_type": "markdown",
   "id": "6b1a6451",
   "metadata": {},
   "source": [
    "# 1"
   ]
  },
  {
   "cell_type": "code",
   "execution_count": null,
   "id": "cd0ae1cb",
   "metadata": {},
   "outputs": [],
   "source": []
  }
 ],
 "metadata": {
  "kernelspec": {
   "display_name": "Python 3 (ipykernel)",
   "language": "python",
   "name": "python3"
  },
  "language_info": {
   "codemirror_mode": {
    "name": "ipython",
    "version": 3
   },
   "file_extension": ".py",
   "mimetype": "text/x-python",
   "name": "python",
   "nbconvert_exporter": "python",
   "pygments_lexer": "ipython3",
   "version": "3.10.6"
  }
 },
 "nbformat": 4,
 "nbformat_minor": 5
}
