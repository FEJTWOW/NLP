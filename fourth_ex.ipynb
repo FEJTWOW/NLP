{
 "cells": [
  {
   "cell_type": "code",
   "execution_count": 2,
   "id": "1d063e9a",
   "metadata": {},
   "outputs": [],
   "source": [
    "import spacy\n",
    "from spacy.lang.pl.examples import sentences\n",
    "from utils import read_bills, read_bills_without_normalize\n",
    "import os\n",
    "import collections\n",
    "from typing import List\n",
    "import matplotlib.pyplot as plt\n",
    "from operator import itemgetter\n",
    "import tqdm\n",
    "import pickle\n",
    "import nltk\n",
    "from collections import Counter\n",
    "import pandas as pd\n",
    "import math\n",
    "import requests as rq\n",
    "import regex"
   ]
  },
  {
   "cell_type": "markdown",
   "id": "23970f5e",
   "metadata": {},
   "source": [
    "# Read bills"
   ]
  },
  {
   "cell_type": "code",
   "execution_count": 3,
   "id": "060793d3",
   "metadata": {},
   "outputs": [],
   "source": [
    "current_dir = os.getcwd()\n",
    "bills_dict = read_bills(f\"{current_dir}/data/first_ex_data/ustawy\")"
   ]
  },
  {
   "cell_type": "markdown",
   "id": "170d8ffe",
   "metadata": {},
   "source": [
    "# Use SpaCy tokenizer API to tokenize the text from the law corpus."
   ]
  },
  {
   "cell_type": "code",
   "execution_count": 4,
   "id": "ffa06976",
   "metadata": {},
   "outputs": [],
   "source": [
    "# tokenized_bills = {}\n",
    "# for file_id, file_content in tqdm.tqdm(bills_dict.items()):\n",
    "#     tokens = nlp(file_content)\n",
    "#     tokenized_bills[file_id] = [token.text for token in tokens]"
   ]
  },
  {
   "cell_type": "code",
   "execution_count": 5,
   "id": "fb8f97d2",
   "metadata": {},
   "outputs": [],
   "source": [
    "# tokenized_bills[\"1999_700\"]"
   ]
  },
  {
   "cell_type": "code",
   "execution_count": 6,
   "id": "cc4049ef",
   "metadata": {},
   "outputs": [],
   "source": [
    "# the tokenization took 15 min, dumping this dict just in case\n",
    "# with open('tokenized_bills.pickle', 'wb') as handle:\n",
    "#     pickle.dump(tokenized_bills, handle)"
   ]
  },
  {
   "cell_type": "code",
   "execution_count": 7,
   "id": "817565a3",
   "metadata": {},
   "outputs": [],
   "source": [
    "with open('tokenized_bills.pickle', 'rb') as handle:\n",
    "    b = pickle.load(handle)"
   ]
  },
  {
   "cell_type": "code",
   "execution_count": 8,
   "id": "0722383f",
   "metadata": {},
   "outputs": [],
   "source": [
    "tokenized_bills = b"
   ]
  },
  {
   "cell_type": "markdown",
   "id": "6057b893",
   "metadata": {},
   "source": [
    "# Compute bigram counts of downcased tokens"
   ]
  },
  {
   "cell_type": "code",
   "execution_count": 9,
   "id": "5291c878",
   "metadata": {},
   "outputs": [],
   "source": [
    "def flatten(l):\n",
    "    return [item for sublist in l for item in sublist]"
   ]
  },
  {
   "cell_type": "code",
   "execution_count": 10,
   "id": "2cf4d7c4",
   "metadata": {},
   "outputs": [],
   "source": [
    "tokens = [token for token in tokenized_bills.values()]\n",
    "tokens = flatten(tokens)"
   ]
  },
  {
   "cell_type": "code",
   "execution_count": 11,
   "id": "78482758",
   "metadata": {},
   "outputs": [],
   "source": [
    "bigrams = list(nltk.bigrams(tokens[:10000]))"
   ]
  },
  {
   "cell_type": "code",
   "execution_count": 12,
   "id": "3ff0d01d",
   "metadata": {},
   "outputs": [],
   "source": [
    "counted_bigrams = dict(Counter(bigrams))"
   ]
  },
  {
   "cell_type": "markdown",
   "id": "3be0ffa3",
   "metadata": {},
   "source": [
    "# Discard bigrams containing characters other than letters"
   ]
  },
  {
   "cell_type": "code",
   "execution_count": 13,
   "id": "0b8e267f",
   "metadata": {},
   "outputs": [],
   "source": [
    "clean_counted_bigrams = (\n",
    "    { token : value for token, value in counted_bigrams.items() if all(elem.isalpha() for elem in list(token))}\n",
    ")"
   ]
  },
  {
   "cell_type": "code",
   "execution_count": 14,
   "id": "02f730f2",
   "metadata": {},
   "outputs": [],
   "source": [
    "df = pd.DataFrame(clean_counted_bigrams.items(), columns=[\"bigrams\",\"count\"]) "
   ]
  },
  {
   "cell_type": "code",
   "execution_count": 15,
   "id": "b6f45d1e",
   "metadata": {},
   "outputs": [
    {
     "data": {
      "text/html": [
       "<div>\n",
       "<style scoped>\n",
       "    .dataframe tbody tr th:only-of-type {\n",
       "        vertical-align: middle;\n",
       "    }\n",
       "\n",
       "    .dataframe tbody tr th {\n",
       "        vertical-align: top;\n",
       "    }\n",
       "\n",
       "    .dataframe thead th {\n",
       "        text-align: right;\n",
       "    }\n",
       "</style>\n",
       "<table border=\"1\" class=\"dataframe\">\n",
       "  <thead>\n",
       "    <tr style=\"text-align: right;\">\n",
       "      <th></th>\n",
       "      <th>bigrams</th>\n",
       "      <th>count</th>\n",
       "    </tr>\n",
       "  </thead>\n",
       "  <tbody>\n",
       "    <tr>\n",
       "      <th>0</th>\n",
       "      <td>(dzu, z)</td>\n",
       "      <td>6</td>\n",
       "    </tr>\n",
       "    <tr>\n",
       "      <th>1</th>\n",
       "      <td>(r, nr)</td>\n",
       "      <td>19</td>\n",
       "    </tr>\n",
       "    <tr>\n",
       "      <th>2</th>\n",
       "      <td>(ustawa, z)</td>\n",
       "      <td>3</td>\n",
       "    </tr>\n",
       "    <tr>\n",
       "      <th>3</th>\n",
       "      <td>(z, dnia)</td>\n",
       "      <td>10</td>\n",
       "    </tr>\n",
       "    <tr>\n",
       "      <th>4</th>\n",
       "      <td>(r, o)</td>\n",
       "      <td>9</td>\n",
       "    </tr>\n",
       "    <tr>\n",
       "      <th>...</th>\n",
       "      <td>...</td>\n",
       "      <td>...</td>\n",
       "    </tr>\n",
       "    <tr>\n",
       "      <th>4410</th>\n",
       "      <td>(do, sędziów)</td>\n",
       "      <td>1</td>\n",
       "    </tr>\n",
       "    <tr>\n",
       "      <th>4411</th>\n",
       "      <td>(będącego, prokuratorem)</td>\n",
       "      <td>1</td>\n",
       "    </tr>\n",
       "    <tr>\n",
       "      <th>4412</th>\n",
       "      <td>(prokuratorem, wojskowej)</td>\n",
       "      <td>1</td>\n",
       "    </tr>\n",
       "    <tr>\n",
       "      <th>4413</th>\n",
       "      <td>(wojskowej, jednostki)</td>\n",
       "      <td>1</td>\n",
       "    </tr>\n",
       "    <tr>\n",
       "      <th>4414</th>\n",
       "      <td>(jednostki, organizacyjnej)</td>\n",
       "      <td>1</td>\n",
       "    </tr>\n",
       "  </tbody>\n",
       "</table>\n",
       "<p>4415 rows × 2 columns</p>\n",
       "</div>"
      ],
      "text/plain": [
       "                          bigrams  count\n",
       "0                        (dzu, z)      6\n",
       "1                         (r, nr)     19\n",
       "2                     (ustawa, z)      3\n",
       "3                       (z, dnia)     10\n",
       "4                          (r, o)      9\n",
       "...                           ...    ...\n",
       "4410                (do, sędziów)      1\n",
       "4411     (będącego, prokuratorem)      1\n",
       "4412    (prokuratorem, wojskowej)      1\n",
       "4413       (wojskowej, jednostki)      1\n",
       "4414  (jednostki, organizacyjnej)      1\n",
       "\n",
       "[4415 rows x 2 columns]"
      ]
     },
     "execution_count": 15,
     "metadata": {},
     "output_type": "execute_result"
    }
   ],
   "source": [
    "df"
   ]
  },
  {
   "cell_type": "code",
   "execution_count": 16,
   "id": "0492bd0e",
   "metadata": {},
   "outputs": [],
   "source": [
    "def calculate_pmi(tokens, ngrams):\n",
    "    pmi = []\n",
    "    text_length = len(tokens)\n",
    "    for ngram, count in tqdm.tqdm(ngrams.items()):\n",
    "        prob = count / text_length\n",
    "        freq = [tokens.count(t) / text_length for t in list(ngram)]\n",
    "        individual_probabilities = math.prod(freq)\n",
    "        pmi.append(math.log2(prob/individual_probabilities))\n",
    "    return pmi"
   ]
  },
  {
   "cell_type": "code",
   "execution_count": 17,
   "id": "4ffde614",
   "metadata": {},
   "outputs": [],
   "source": [
    "# pmi = []\n",
    "# text_length = len(tokens)\n",
    "# for bigram, count in tqdm.tqdm(clean_counted_bigrams.items()):\n",
    "#     prob = count / text_length\n",
    "#     freq = [tokens.count(t) / text_length for t in list(bigram)]\n",
    "#     individual_probabilities = math.prod(freq)\n",
    "#     pmi.append(math.log2(prob/individual_probabilities))"
   ]
  },
  {
   "cell_type": "code",
   "execution_count": 18,
   "id": "39524f6d",
   "metadata": {},
   "outputs": [
    {
     "name": "stderr",
     "output_type": "stream",
     "text": [
      "100%|███████████████████████████████████████| 4415/4415 [04:38<00:00, 15.86it/s]\n"
     ]
    }
   ],
   "source": [
    "df[\"pmi\"] = calculate_pmi(tokens, clean_counted_bigrams)"
   ]
  },
  {
   "cell_type": "code",
   "execution_count": 19,
   "id": "2a6ed6f2",
   "metadata": {},
   "outputs": [
    {
     "data": {
      "text/html": [
       "<div>\n",
       "<style scoped>\n",
       "    .dataframe tbody tr th:only-of-type {\n",
       "        vertical-align: middle;\n",
       "    }\n",
       "\n",
       "    .dataframe tbody tr th {\n",
       "        vertical-align: top;\n",
       "    }\n",
       "\n",
       "    .dataframe thead th {\n",
       "        text-align: right;\n",
       "    }\n",
       "</style>\n",
       "<table border=\"1\" class=\"dataframe\">\n",
       "  <thead>\n",
       "    <tr style=\"text-align: right;\">\n",
       "      <th></th>\n",
       "      <th>bigrams</th>\n",
       "      <th>count</th>\n",
       "      <th>pmi</th>\n",
       "    </tr>\n",
       "  </thead>\n",
       "  <tbody>\n",
       "    <tr>\n",
       "      <th>0</th>\n",
       "      <td>(dzu, z)</td>\n",
       "      <td>6</td>\n",
       "      <td>-4.278401</td>\n",
       "    </tr>\n",
       "    <tr>\n",
       "      <th>1</th>\n",
       "      <td>(r, nr)</td>\n",
       "      <td>19</td>\n",
       "      <td>-4.259480</td>\n",
       "    </tr>\n",
       "    <tr>\n",
       "      <th>2</th>\n",
       "      <td>(ustawa, z)</td>\n",
       "      <td>3</td>\n",
       "      <td>-4.444596</td>\n",
       "    </tr>\n",
       "    <tr>\n",
       "      <th>3</th>\n",
       "      <td>(z, dnia)</td>\n",
       "      <td>10</td>\n",
       "      <td>-5.180098</td>\n",
       "    </tr>\n",
       "    <tr>\n",
       "      <th>4</th>\n",
       "      <td>(r, o)</td>\n",
       "      <td>9</td>\n",
       "      <td>-5.864568</td>\n",
       "    </tr>\n",
       "    <tr>\n",
       "      <th>...</th>\n",
       "      <td>...</td>\n",
       "      <td>...</td>\n",
       "      <td>...</td>\n",
       "    </tr>\n",
       "    <tr>\n",
       "      <th>4410</th>\n",
       "      <td>(do, sędziów)</td>\n",
       "      <td>1</td>\n",
       "      <td>-2.848001</td>\n",
       "    </tr>\n",
       "    <tr>\n",
       "      <th>4411</th>\n",
       "      <td>(będącego, prokuratorem)</td>\n",
       "      <td>1</td>\n",
       "      <td>9.812570</td>\n",
       "    </tr>\n",
       "    <tr>\n",
       "      <th>4412</th>\n",
       "      <td>(prokuratorem, wojskowej)</td>\n",
       "      <td>1</td>\n",
       "      <td>7.197736</td>\n",
       "    </tr>\n",
       "    <tr>\n",
       "      <th>4413</th>\n",
       "      <td>(wojskowej, jednostki)</td>\n",
       "      <td>1</td>\n",
       "      <td>-0.276717</td>\n",
       "    </tr>\n",
       "    <tr>\n",
       "      <th>4414</th>\n",
       "      <td>(jednostki, organizacyjnej)</td>\n",
       "      <td>1</td>\n",
       "      <td>1.017396</td>\n",
       "    </tr>\n",
       "  </tbody>\n",
       "</table>\n",
       "<p>4415 rows × 3 columns</p>\n",
       "</div>"
      ],
      "text/plain": [
       "                          bigrams  count       pmi\n",
       "0                        (dzu, z)      6 -4.278401\n",
       "1                         (r, nr)     19 -4.259480\n",
       "2                     (ustawa, z)      3 -4.444596\n",
       "3                       (z, dnia)     10 -5.180098\n",
       "4                          (r, o)      9 -5.864568\n",
       "...                           ...    ...       ...\n",
       "4410                (do, sędziów)      1 -2.848001\n",
       "4411     (będącego, prokuratorem)      1  9.812570\n",
       "4412    (prokuratorem, wojskowej)      1  7.197736\n",
       "4413       (wojskowej, jednostki)      1 -0.276717\n",
       "4414  (jednostki, organizacyjnej)      1  1.017396\n",
       "\n",
       "[4415 rows x 3 columns]"
      ]
     },
     "execution_count": 19,
     "metadata": {},
     "output_type": "execute_result"
    }
   ],
   "source": [
    "df"
   ]
  },
  {
   "cell_type": "markdown",
   "id": "5ab2d579",
   "metadata": {},
   "source": [
    "# Sort the word pairs according to that measure in the descending order and determine top 10 entries."
   ]
  },
  {
   "cell_type": "code",
   "execution_count": 20,
   "id": "769d07de",
   "metadata": {},
   "outputs": [
    {
     "data": {
      "text/html": [
       "<div>\n",
       "<style scoped>\n",
       "    .dataframe tbody tr th:only-of-type {\n",
       "        vertical-align: middle;\n",
       "    }\n",
       "\n",
       "    .dataframe tbody tr th {\n",
       "        vertical-align: top;\n",
       "    }\n",
       "\n",
       "    .dataframe thead th {\n",
       "        text-align: right;\n",
       "    }\n",
       "</style>\n",
       "<table border=\"1\" class=\"dataframe\">\n",
       "  <thead>\n",
       "    <tr style=\"text-align: right;\">\n",
       "      <th></th>\n",
       "      <th>bigrams</th>\n",
       "      <th>count</th>\n",
       "      <th>pmi</th>\n",
       "    </tr>\n",
       "  </thead>\n",
       "  <tbody>\n",
       "    <tr>\n",
       "      <th>265</th>\n",
       "      <td>(kazeinę, kazeiniany)</td>\n",
       "      <td>1</td>\n",
       "      <td>21.961364</td>\n",
       "    </tr>\n",
       "    <tr>\n",
       "      <th>3046</th>\n",
       "      <td>(doktorów, habilitowanych)</td>\n",
       "      <td>1</td>\n",
       "      <td>21.961364</td>\n",
       "    </tr>\n",
       "    <tr>\n",
       "      <th>259</th>\n",
       "      <td>(bezwodny, tłuszcz)</td>\n",
       "      <td>1</td>\n",
       "      <td>19.376401</td>\n",
       "    </tr>\n",
       "    <tr>\n",
       "      <th>262</th>\n",
       "      <td>(sery, maślankę)</td>\n",
       "      <td>1</td>\n",
       "      <td>19.376401</td>\n",
       "    </tr>\n",
       "    <tr>\n",
       "      <th>4355</th>\n",
       "      <td>(zebrań, żołnierskich)</td>\n",
       "      <td>1</td>\n",
       "      <td>19.154009</td>\n",
       "    </tr>\n",
       "    <tr>\n",
       "      <th>257</th>\n",
       "      <td>(śmietankę, masło)</td>\n",
       "      <td>1</td>\n",
       "      <td>18.961364</td>\n",
       "    </tr>\n",
       "    <tr>\n",
       "      <th>254</th>\n",
       "      <td>(smakowych, śmietanę)</td>\n",
       "      <td>1</td>\n",
       "      <td>18.961364</td>\n",
       "    </tr>\n",
       "    <tr>\n",
       "      <th>1234</th>\n",
       "      <td>(hurtowymi, sprzedającymi)</td>\n",
       "      <td>1</td>\n",
       "      <td>18.791439</td>\n",
       "    </tr>\n",
       "    <tr>\n",
       "      <th>1842</th>\n",
       "      <td>(cukierniczych, piekarniczych)</td>\n",
       "      <td>1</td>\n",
       "      <td>18.791439</td>\n",
       "    </tr>\n",
       "    <tr>\n",
       "      <th>260</th>\n",
       "      <td>(tłuszcz, mleczny)</td>\n",
       "      <td>1</td>\n",
       "      <td>18.376401</td>\n",
       "    </tr>\n",
       "  </tbody>\n",
       "</table>\n",
       "</div>"
      ],
      "text/plain": [
       "                             bigrams  count        pmi\n",
       "265            (kazeinę, kazeiniany)      1  21.961364\n",
       "3046      (doktorów, habilitowanych)      1  21.961364\n",
       "259              (bezwodny, tłuszcz)      1  19.376401\n",
       "262                 (sery, maślankę)      1  19.376401\n",
       "4355          (zebrań, żołnierskich)      1  19.154009\n",
       "257               (śmietankę, masło)      1  18.961364\n",
       "254            (smakowych, śmietanę)      1  18.961364\n",
       "1234      (hurtowymi, sprzedającymi)      1  18.791439\n",
       "1842  (cukierniczych, piekarniczych)      1  18.791439\n",
       "260               (tłuszcz, mleczny)      1  18.376401"
      ]
     },
     "execution_count": 20,
     "metadata": {},
     "output_type": "execute_result"
    }
   ],
   "source": [
    "df.sort_values(by=\"pmi\", ascending=False).head(10)"
   ]
  },
  {
   "cell_type": "markdown",
   "id": "3c204cd8",
   "metadata": {},
   "source": [
    "# Filter bigrams with number of occurrences lower than 5. Determine top 10 entries for the remaining dataset (>=5 occurrences)."
   ]
  },
  {
   "cell_type": "code",
   "execution_count": 21,
   "id": "0c66bf50",
   "metadata": {},
   "outputs": [],
   "source": [
    "df_filtered = df[df[\"count\"] >= 5]"
   ]
  },
  {
   "cell_type": "code",
   "execution_count": 22,
   "id": "d39eca0b",
   "metadata": {},
   "outputs": [
    {
     "data": {
      "text/html": [
       "<div>\n",
       "<style scoped>\n",
       "    .dataframe tbody tr th:only-of-type {\n",
       "        vertical-align: middle;\n",
       "    }\n",
       "\n",
       "    .dataframe tbody tr th {\n",
       "        vertical-align: top;\n",
       "    }\n",
       "\n",
       "    .dataframe thead th {\n",
       "        text-align: right;\n",
       "    }\n",
       "</style>\n",
       "<table border=\"1\" class=\"dataframe\">\n",
       "  <thead>\n",
       "    <tr style=\"text-align: right;\">\n",
       "      <th></th>\n",
       "      <th>bigrams</th>\n",
       "      <th>count</th>\n",
       "      <th>pmi</th>\n",
       "    </tr>\n",
       "  </thead>\n",
       "  <tbody>\n",
       "    <tr>\n",
       "      <th>212</th>\n",
       "      <td>(przetwory, mleczne)</td>\n",
       "      <td>8</td>\n",
       "      <td>15.247118</td>\n",
       "    </tr>\n",
       "    <tr>\n",
       "      <th>219</th>\n",
       "      <td>(indywidualna, reprezentatywna)</td>\n",
       "      <td>5</td>\n",
       "      <td>15.177383</td>\n",
       "    </tr>\n",
       "    <tr>\n",
       "      <th>437</th>\n",
       "      <td>(średniej, ważonej)</td>\n",
       "      <td>9</td>\n",
       "      <td>13.694577</td>\n",
       "    </tr>\n",
       "    <tr>\n",
       "      <th>464</th>\n",
       "      <td>(dostawcy, hurtowemu)</td>\n",
       "      <td>6</td>\n",
       "      <td>13.207590</td>\n",
       "    </tr>\n",
       "    <tr>\n",
       "      <th>281</th>\n",
       "      <td>(mlecznej, przeznaczonej)</td>\n",
       "      <td>28</td>\n",
       "      <td>12.940582</td>\n",
       "    </tr>\n",
       "    <tr>\n",
       "      <th>472</th>\n",
       "      <td>(podmiotom, skupującym)</td>\n",
       "      <td>5</td>\n",
       "      <td>12.916970</td>\n",
       "    </tr>\n",
       "    <tr>\n",
       "      <th>298</th>\n",
       "      <td>(dostawców, hurtowych)</td>\n",
       "      <td>40</td>\n",
       "      <td>12.715336</td>\n",
       "    </tr>\n",
       "    <tr>\n",
       "      <th>277</th>\n",
       "      <td>(współczynnik, przydziału)</td>\n",
       "      <td>5</td>\n",
       "      <td>12.588499</td>\n",
       "    </tr>\n",
       "    <tr>\n",
       "      <th>342</th>\n",
       "      <td>(indywidualnej, reprezentatywnej)</td>\n",
       "      <td>14</td>\n",
       "      <td>12.431376</td>\n",
       "    </tr>\n",
       "    <tr>\n",
       "      <th>233</th>\n",
       "      <td>(dostawcę, hurtowego)</td>\n",
       "      <td>6</td>\n",
       "      <td>12.292479</td>\n",
       "    </tr>\n",
       "  </tbody>\n",
       "</table>\n",
       "</div>"
      ],
      "text/plain": [
       "                               bigrams  count        pmi\n",
       "212               (przetwory, mleczne)      8  15.247118\n",
       "219    (indywidualna, reprezentatywna)      5  15.177383\n",
       "437                (średniej, ważonej)      9  13.694577\n",
       "464              (dostawcy, hurtowemu)      6  13.207590\n",
       "281          (mlecznej, przeznaczonej)     28  12.940582\n",
       "472            (podmiotom, skupującym)      5  12.916970\n",
       "298             (dostawców, hurtowych)     40  12.715336\n",
       "277         (współczynnik, przydziału)      5  12.588499\n",
       "342  (indywidualnej, reprezentatywnej)     14  12.431376\n",
       "233              (dostawcę, hurtowego)      6  12.292479"
      ]
     },
     "execution_count": 22,
     "metadata": {},
     "output_type": "execute_result"
    }
   ],
   "source": [
    "top_bigrams_spacy_df = df_filtered.sort_values(by=\"pmi\", ascending=False).head(10)\n",
    "top_bigrams_spacy_df"
   ]
  },
  {
   "cell_type": "markdown",
   "id": "6f9a4c4f",
   "metadata": {},
   "source": [
    "# Use KRNNT or Clarin-PL API(https://ws.clarin-pl.eu/tager.shtml) to tag and lemmatize the corpus."
   ]
  },
  {
   "cell_type": "code",
   "execution_count": 23,
   "id": "ef963bf3",
   "metadata": {},
   "outputs": [],
   "source": [
    "import xml.etree.ElementTree as ET"
   ]
  },
  {
   "cell_type": "code",
   "execution_count": 24,
   "id": "fb4c3254",
   "metadata": {},
   "outputs": [],
   "source": [
    "# bills_text = ' '.join(bills_dict.values())"
   ]
  },
  {
   "cell_type": "code",
   "execution_count": 25,
   "id": "569fc615",
   "metadata": {},
   "outputs": [],
   "source": [
    "# with open('bills_text.txt', 'w') as f:\n",
    "#     f.write(bills_text)"
   ]
  },
  {
   "cell_type": "code",
   "execution_count": 26,
   "id": "b447d2a5",
   "metadata": {},
   "outputs": [],
   "source": [
    "with open('results.txt', 'r') as f:\n",
    "    results = f.read()"
   ]
  },
  {
   "cell_type": "code",
   "execution_count": 27,
   "id": "02a65012",
   "metadata": {},
   "outputs": [],
   "source": [
    "xml_tree = ET.fromstring(results)"
   ]
  },
  {
   "cell_type": "code",
   "execution_count": 28,
   "id": "b4a06545",
   "metadata": {},
   "outputs": [],
   "source": [
    "match = regex.compile(r'\\w+\\b')\n",
    "tags = []\n",
    "for tok in xml_tree.iter('tok'):\n",
    "    for lex in tok.iter('lex'):\n",
    "        base = lex.find(\"base\").text\n",
    "        ctag = match.findall(lex.find(\"ctag\").text)[0]\n",
    "        tags.append(f\"{base}:{ctag}\")"
   ]
  },
  {
   "cell_type": "code",
   "execution_count": 29,
   "id": "ec8482f5",
   "metadata": {},
   "outputs": [],
   "source": [
    "# <tok>\n",
    "#     <orth>skupujących</orth>\n",
    "#     <lex disamb=\"1\"><base>skupować</base><ctag>pact:pl:gen:m1:imperf:aff</ctag></lex>\n",
    "#     <lex disamb=\"1\"><base>skupywać</base><ctag>pact:pl:gen:m1:imperf:aff</ctag></lex>\n",
    "# </tok>\n",
    "# dunno what to do in case like that"
   ]
  },
  {
   "cell_type": "markdown",
   "id": "5f6aadf3",
   "metadata": {},
   "source": [
    "# Compute the same statistics as for the non-lemmatized words (i.e. PMI) and print top-10 entries with at least 5 occurrences."
   ]
  },
  {
   "cell_type": "code",
   "execution_count": 40,
   "id": "a6197e8e",
   "metadata": {},
   "outputs": [],
   "source": [
    "bigrams_clairn = list(nltk.bigrams(tags[:10000]))"
   ]
  },
  {
   "cell_type": "code",
   "execution_count": 41,
   "id": "a017c5f6",
   "metadata": {},
   "outputs": [
    {
     "data": {
      "text/plain": [
       "9999"
      ]
     },
     "execution_count": 41,
     "metadata": {},
     "output_type": "execute_result"
    }
   ],
   "source": [
    "len(bigrams_clairn)"
   ]
  },
  {
   "cell_type": "code",
   "execution_count": 42,
   "id": "8fd485f3",
   "metadata": {},
   "outputs": [],
   "source": [
    "counted_bigrams_clairn = dict(Counter(bigrams_clairn))"
   ]
  },
  {
   "cell_type": "code",
   "execution_count": 43,
   "id": "cbd26c7d",
   "metadata": {},
   "outputs": [
    {
     "data": {
      "text/plain": [
       "4930"
      ]
     },
     "execution_count": 43,
     "metadata": {},
     "output_type": "execute_result"
    }
   ],
   "source": [
    "len(counted_bigrams_clairn)"
   ]
  },
  {
   "cell_type": "code",
   "execution_count": 44,
   "id": "b2303227",
   "metadata": {},
   "outputs": [],
   "source": [
    "clean_counted_bigrams_clairn = (\n",
    "    { token : value for token, value in counted_bigrams_clairn.items() \n",
    "     if all(elem.split(\":\")[0].isalpha() for elem in list(token))}\n",
    ")"
   ]
  },
  {
   "cell_type": "code",
   "execution_count": 45,
   "id": "7647fc0c",
   "metadata": {},
   "outputs": [
    {
     "data": {
      "text/plain": [
       "3806"
      ]
     },
     "execution_count": 45,
     "metadata": {},
     "output_type": "execute_result"
    }
   ],
   "source": [
    "len(clean_counted_bigrams_clairn)"
   ]
  },
  {
   "cell_type": "code",
   "execution_count": 46,
   "id": "07dbca16",
   "metadata": {},
   "outputs": [],
   "source": [
    "df_clairn = pd.DataFrame(clean_counted_bigrams_clairn.items(), columns=[\"bigrams\",\"count\"]) "
   ]
  },
  {
   "cell_type": "code",
   "execution_count": 47,
   "id": "de89ec67",
   "metadata": {},
   "outputs": [
    {
     "data": {
      "text/html": [
       "<div>\n",
       "<style scoped>\n",
       "    .dataframe tbody tr th:only-of-type {\n",
       "        vertical-align: middle;\n",
       "    }\n",
       "\n",
       "    .dataframe tbody tr th {\n",
       "        vertical-align: top;\n",
       "    }\n",
       "\n",
       "    .dataframe thead th {\n",
       "        text-align: right;\n",
       "    }\n",
       "</style>\n",
       "<table border=\"1\" class=\"dataframe\">\n",
       "  <thead>\n",
       "    <tr style=\"text-align: right;\">\n",
       "      <th></th>\n",
       "      <th>bigrams</th>\n",
       "      <th>count</th>\n",
       "    </tr>\n",
       "  </thead>\n",
       "  <tbody>\n",
       "    <tr>\n",
       "      <th>0</th>\n",
       "      <td>(dzu:ign, z:prep)</td>\n",
       "      <td>5</td>\n",
       "    </tr>\n",
       "    <tr>\n",
       "      <th>1</th>\n",
       "      <td>(r:ign, nr:subst)</td>\n",
       "      <td>18</td>\n",
       "    </tr>\n",
       "    <tr>\n",
       "      <th>2</th>\n",
       "      <td>(ustawa:subst, z:prep)</td>\n",
       "      <td>8</td>\n",
       "    </tr>\n",
       "    <tr>\n",
       "      <th>3</th>\n",
       "      <td>(z:prep, dzień:subst)</td>\n",
       "      <td>12</td>\n",
       "    </tr>\n",
       "    <tr>\n",
       "      <th>4</th>\n",
       "      <td>(r:ign, o:prep)</td>\n",
       "      <td>8</td>\n",
       "    </tr>\n",
       "    <tr>\n",
       "      <th>...</th>\n",
       "      <td>...</td>\n",
       "      <td>...</td>\n",
       "    </tr>\n",
       "    <tr>\n",
       "      <th>3801</th>\n",
       "      <td>(odpowiedzialność:subst, żołnierz:subst)</td>\n",
       "      <td>1</td>\n",
       "    </tr>\n",
       "    <tr>\n",
       "      <th>3802</th>\n",
       "      <td>(żołnierz:subst, za:qub)</td>\n",
       "      <td>1</td>\n",
       "    </tr>\n",
       "    <tr>\n",
       "      <th>3803</th>\n",
       "      <td>(dyscyplinarny:adj, i:conj)</td>\n",
       "      <td>1</td>\n",
       "    </tr>\n",
       "    <tr>\n",
       "      <th>3804</th>\n",
       "      <td>(za:qub, naruszenie:subst)</td>\n",
       "      <td>1</td>\n",
       "    </tr>\n",
       "    <tr>\n",
       "      <th>3805</th>\n",
       "      <td>(żołnierski:adj, dzu:ign)</td>\n",
       "      <td>1</td>\n",
       "    </tr>\n",
       "  </tbody>\n",
       "</table>\n",
       "<p>3806 rows × 2 columns</p>\n",
       "</div>"
      ],
      "text/plain": [
       "                                       bigrams  count\n",
       "0                            (dzu:ign, z:prep)      5\n",
       "1                            (r:ign, nr:subst)     18\n",
       "2                       (ustawa:subst, z:prep)      8\n",
       "3                        (z:prep, dzień:subst)     12\n",
       "4                              (r:ign, o:prep)      8\n",
       "...                                        ...    ...\n",
       "3801  (odpowiedzialność:subst, żołnierz:subst)      1\n",
       "3802                  (żołnierz:subst, za:qub)      1\n",
       "3803               (dyscyplinarny:adj, i:conj)      1\n",
       "3804                (za:qub, naruszenie:subst)      1\n",
       "3805                 (żołnierski:adj, dzu:ign)      1\n",
       "\n",
       "[3806 rows x 2 columns]"
      ]
     },
     "execution_count": 47,
     "metadata": {},
     "output_type": "execute_result"
    }
   ],
   "source": [
    "df_clairn"
   ]
  },
  {
   "cell_type": "code",
   "execution_count": 48,
   "id": "a9e9aba8",
   "metadata": {},
   "outputs": [],
   "source": [
    "# pmi_clairn = []\n",
    "# text_length = len(tags)\n",
    "# for bigram, count in tqdm.tqdm(clean_counted_bigrams_clairn.items()):\n",
    "#     prob = count / text_length\n",
    "#     freq = [tags.count(t) / text_length for t in list(bigram)]\n",
    "#     individual_probabilities = math.prod(freq)\n",
    "#     pmi_clairn.append(math.log2(prob/individual_probabilities))"
   ]
  },
  {
   "cell_type": "code",
   "execution_count": 49,
   "id": "8222c23d",
   "metadata": {},
   "outputs": [
    {
     "name": "stderr",
     "output_type": "stream",
     "text": [
      "100%|███████████████████████████████████████| 3806/3806 [04:11<00:00, 15.15it/s]\n"
     ]
    }
   ],
   "source": [
    "df_clairn[\"pmi\"] = calculate_pmi(tags, clean_counted_bigrams_clairn)"
   ]
  },
  {
   "cell_type": "code",
   "execution_count": 50,
   "id": "00ac95b4",
   "metadata": {},
   "outputs": [
    {
     "data": {
      "text/html": [
       "<div>\n",
       "<style scoped>\n",
       "    .dataframe tbody tr th:only-of-type {\n",
       "        vertical-align: middle;\n",
       "    }\n",
       "\n",
       "    .dataframe tbody tr th {\n",
       "        vertical-align: top;\n",
       "    }\n",
       "\n",
       "    .dataframe thead th {\n",
       "        text-align: right;\n",
       "    }\n",
       "</style>\n",
       "<table border=\"1\" class=\"dataframe\">\n",
       "  <thead>\n",
       "    <tr style=\"text-align: right;\">\n",
       "      <th></th>\n",
       "      <th>bigrams</th>\n",
       "      <th>count</th>\n",
       "      <th>pmi</th>\n",
       "    </tr>\n",
       "  </thead>\n",
       "  <tbody>\n",
       "    <tr>\n",
       "      <th>0</th>\n",
       "      <td>(dzu:ign, z:prep)</td>\n",
       "      <td>5</td>\n",
       "      <td>-4.615191</td>\n",
       "    </tr>\n",
       "    <tr>\n",
       "      <th>1</th>\n",
       "      <td>(r:ign, nr:subst)</td>\n",
       "      <td>18</td>\n",
       "      <td>-4.317902</td>\n",
       "    </tr>\n",
       "    <tr>\n",
       "      <th>2</th>\n",
       "      <td>(ustawa:subst, z:prep)</td>\n",
       "      <td>8</td>\n",
       "      <td>-6.046463</td>\n",
       "    </tr>\n",
       "    <tr>\n",
       "      <th>3</th>\n",
       "      <td>(z:prep, dzień:subst)</td>\n",
       "      <td>12</td>\n",
       "      <td>-5.578939</td>\n",
       "    </tr>\n",
       "    <tr>\n",
       "      <th>4</th>\n",
       "      <td>(r:ign, o:prep)</td>\n",
       "      <td>8</td>\n",
       "      <td>-6.014913</td>\n",
       "    </tr>\n",
       "    <tr>\n",
       "      <th>...</th>\n",
       "      <td>...</td>\n",
       "      <td>...</td>\n",
       "      <td>...</td>\n",
       "    </tr>\n",
       "    <tr>\n",
       "      <th>3801</th>\n",
       "      <td>(odpowiedzialność:subst, żołnierz:subst)</td>\n",
       "      <td>1</td>\n",
       "      <td>0.322438</td>\n",
       "    </tr>\n",
       "    <tr>\n",
       "      <th>3802</th>\n",
       "      <td>(żołnierz:subst, za:qub)</td>\n",
       "      <td>1</td>\n",
       "      <td>-2.625909</td>\n",
       "    </tr>\n",
       "    <tr>\n",
       "      <th>3803</th>\n",
       "      <td>(dyscyplinarny:adj, i:conj)</td>\n",
       "      <td>1</td>\n",
       "      <td>-5.900086</td>\n",
       "    </tr>\n",
       "    <tr>\n",
       "      <th>3804</th>\n",
       "      <td>(za:qub, naruszenie:subst)</td>\n",
       "      <td>1</td>\n",
       "      <td>-1.645894</td>\n",
       "    </tr>\n",
       "    <tr>\n",
       "      <th>3805</th>\n",
       "      <td>(żołnierski:adj, dzu:ign)</td>\n",
       "      <td>1</td>\n",
       "      <td>5.787149</td>\n",
       "    </tr>\n",
       "  </tbody>\n",
       "</table>\n",
       "<p>3806 rows × 3 columns</p>\n",
       "</div>"
      ],
      "text/plain": [
       "                                       bigrams  count       pmi\n",
       "0                            (dzu:ign, z:prep)      5 -4.615191\n",
       "1                            (r:ign, nr:subst)     18 -4.317902\n",
       "2                       (ustawa:subst, z:prep)      8 -6.046463\n",
       "3                        (z:prep, dzień:subst)     12 -5.578939\n",
       "4                              (r:ign, o:prep)      8 -6.014913\n",
       "...                                        ...    ...       ...\n",
       "3801  (odpowiedzialność:subst, żołnierz:subst)      1  0.322438\n",
       "3802                  (żołnierz:subst, za:qub)      1 -2.625909\n",
       "3803               (dyscyplinarny:adj, i:conj)      1 -5.900086\n",
       "3804                (za:qub, naruszenie:subst)      1 -1.645894\n",
       "3805                 (żołnierski:adj, dzu:ign)      1  5.787149\n",
       "\n",
       "[3806 rows x 3 columns]"
      ]
     },
     "execution_count": 50,
     "metadata": {},
     "output_type": "execute_result"
    }
   ],
   "source": [
    "df_clairn"
   ]
  },
  {
   "cell_type": "code",
   "execution_count": 51,
   "id": "c5b984e9",
   "metadata": {},
   "outputs": [],
   "source": [
    "df_clairn_filtered = df_clairn[df_clairn[\"count\"] >= 5]"
   ]
  },
  {
   "cell_type": "code",
   "execution_count": 52,
   "id": "bc31ba45",
   "metadata": {},
   "outputs": [
    {
     "data": {
      "text/html": [
       "<div>\n",
       "<style scoped>\n",
       "    .dataframe tbody tr th:only-of-type {\n",
       "        vertical-align: middle;\n",
       "    }\n",
       "\n",
       "    .dataframe tbody tr th {\n",
       "        vertical-align: top;\n",
       "    }\n",
       "\n",
       "    .dataframe thead th {\n",
       "        text-align: right;\n",
       "    }\n",
       "</style>\n",
       "<table border=\"1\" class=\"dataframe\">\n",
       "  <thead>\n",
       "    <tr style=\"text-align: right;\">\n",
       "      <th></th>\n",
       "      <th>bigrams</th>\n",
       "      <th>count</th>\n",
       "      <th>pmi</th>\n",
       "    </tr>\n",
       "  </thead>\n",
       "  <tbody>\n",
       "    <tr>\n",
       "      <th>428</th>\n",
       "      <td>(skupować:pact, skupywać:pact)</td>\n",
       "      <td>33</td>\n",
       "      <td>12.399572</td>\n",
       "    </tr>\n",
       "    <tr>\n",
       "      <th>215</th>\n",
       "      <td>(średnia:subst, ważyć:ppas)</td>\n",
       "      <td>14</td>\n",
       "      <td>11.825854</td>\n",
       "    </tr>\n",
       "    <tr>\n",
       "      <th>660</th>\n",
       "      <td>(mleko:subst, skupiony:adj)</td>\n",
       "      <td>10</td>\n",
       "      <td>11.360357</td>\n",
       "    </tr>\n",
       "    <tr>\n",
       "      <th>268</th>\n",
       "      <td>(współczynnik:subst, przydział:subst)</td>\n",
       "      <td>7</td>\n",
       "      <td>11.226653</td>\n",
       "    </tr>\n",
       "    <tr>\n",
       "      <th>213</th>\n",
       "      <td>(zawartość:subst, tłuszcz:subst)</td>\n",
       "      <td>40</td>\n",
       "      <td>10.658903</td>\n",
       "    </tr>\n",
       "    <tr>\n",
       "      <th>178</th>\n",
       "      <td>(przetwór:subst, mleczny:adj)</td>\n",
       "      <td>25</td>\n",
       "      <td>10.562416</td>\n",
       "    </tr>\n",
       "    <tr>\n",
       "      <th>225</th>\n",
       "      <td>(dostawca:subst, hurtowy:adj)</td>\n",
       "      <td>71</td>\n",
       "      <td>10.478294</td>\n",
       "    </tr>\n",
       "    <tr>\n",
       "      <th>216</th>\n",
       "      <td>(ważyć:ppas, zawartość:subst)</td>\n",
       "      <td>13</td>\n",
       "      <td>10.452452</td>\n",
       "    </tr>\n",
       "    <tr>\n",
       "      <th>240</th>\n",
       "      <td>(odtłuścić:ppas, mleko:subst)</td>\n",
       "      <td>5</td>\n",
       "      <td>10.074955</td>\n",
       "    </tr>\n",
       "    <tr>\n",
       "      <th>2258</th>\n",
       "      <td>(osiem:num, osiem:num)</td>\n",
       "      <td>22</td>\n",
       "      <td>9.638616</td>\n",
       "    </tr>\n",
       "  </tbody>\n",
       "</table>\n",
       "</div>"
      ],
      "text/plain": [
       "                                    bigrams  count        pmi\n",
       "428          (skupować:pact, skupywać:pact)     33  12.399572\n",
       "215             (średnia:subst, ważyć:ppas)     14  11.825854\n",
       "660             (mleko:subst, skupiony:adj)     10  11.360357\n",
       "268   (współczynnik:subst, przydział:subst)      7  11.226653\n",
       "213        (zawartość:subst, tłuszcz:subst)     40  10.658903\n",
       "178           (przetwór:subst, mleczny:adj)     25  10.562416\n",
       "225           (dostawca:subst, hurtowy:adj)     71  10.478294\n",
       "216           (ważyć:ppas, zawartość:subst)     13  10.452452\n",
       "240           (odtłuścić:ppas, mleko:subst)      5  10.074955\n",
       "2258                 (osiem:num, osiem:num)     22   9.638616"
      ]
     },
     "execution_count": 52,
     "metadata": {},
     "output_type": "execute_result"
    }
   ],
   "source": [
    "top_bigrams_clairn_df = df_clairn_filtered.sort_values(by=\"pmi\", ascending=False).head(10)\n",
    "top_bigrams_clairn_df"
   ]
  },
  {
   "cell_type": "markdown",
   "id": "16a5ef1f",
   "metadata": {},
   "source": [
    "# Compute trigram counts for both corpora and perform the same filtering."
   ]
  },
  {
   "cell_type": "code",
   "execution_count": 53,
   "id": "a9f8ca68",
   "metadata": {},
   "outputs": [],
   "source": [
    "trigrams_clairn = list(nltk.trigrams(tags[:10000]))\n",
    "trigrams_spacy = list(nltk.trigrams(tokens[:10000]))"
   ]
  },
  {
   "cell_type": "code",
   "execution_count": 54,
   "id": "cf8b17bc",
   "metadata": {},
   "outputs": [],
   "source": [
    "counted_trigrams_clairn = dict(Counter(trigrams_clairn))\n",
    "counted_trigrams_spacy = dict(Counter(trigrams_spacy))"
   ]
  },
  {
   "cell_type": "code",
   "execution_count": 55,
   "id": "84b8e99c",
   "metadata": {},
   "outputs": [],
   "source": [
    "clean_counted_trigrams_clairn = (\n",
    "    { token : value for token, value in counted_trigrams_clairn.items() \n",
    "     if all(elem.split(\":\")[0].isalpha() for elem in list(token))}\n",
    ")"
   ]
  },
  {
   "cell_type": "code",
   "execution_count": 56,
   "id": "6bd5c2f8",
   "metadata": {},
   "outputs": [],
   "source": [
    "clean_counted_trigrams_spacy = (\n",
    "    { token : value for token, value in counted_trigrams_spacy.items() \n",
    "     if all(elem.isalpha() for elem in list(token))}\n",
    ")"
   ]
  },
  {
   "cell_type": "code",
   "execution_count": 57,
   "id": "87b74d3a",
   "metadata": {},
   "outputs": [],
   "source": [
    "df_trigrams_spacy = pd.DataFrame(clean_counted_trigrams_spacy.items(), columns=[\"trigrams\",\"count\"])"
   ]
  },
  {
   "cell_type": "code",
   "execution_count": 58,
   "id": "8db8ad95",
   "metadata": {},
   "outputs": [],
   "source": [
    "df_trigrams_clairn = pd.DataFrame(clean_counted_trigrams_clairn.items(), columns=[\"trigrams\",\"count\"]) "
   ]
  },
  {
   "cell_type": "code",
   "execution_count": 59,
   "id": "224e4935",
   "metadata": {},
   "outputs": [
    {
     "name": "stderr",
     "output_type": "stream",
     "text": [
      "100%|███████████████████████████████████████| 5230/5230 [08:11<00:00, 10.65it/s]\n",
      "100%|███████████████████████████████████████| 4860/4860 [08:01<00:00, 10.08it/s]\n"
     ]
    }
   ],
   "source": [
    "df_trigrams_spacy[\"pmi\"] = calculate_pmi(tokens, clean_counted_trigrams_spacy)\n",
    "df_trigrams_clairn[\"pmi\"] = calculate_pmi(tags, clean_counted_trigrams_clairn)"
   ]
  },
  {
   "cell_type": "code",
   "execution_count": 60,
   "id": "d7a1fcf2",
   "metadata": {},
   "outputs": [
    {
     "data": {
      "text/html": [
       "<div>\n",
       "<style scoped>\n",
       "    .dataframe tbody tr th:only-of-type {\n",
       "        vertical-align: middle;\n",
       "    }\n",
       "\n",
       "    .dataframe tbody tr th {\n",
       "        vertical-align: top;\n",
       "    }\n",
       "\n",
       "    .dataframe thead th {\n",
       "        text-align: right;\n",
       "    }\n",
       "</style>\n",
       "<table border=\"1\" class=\"dataframe\">\n",
       "  <thead>\n",
       "    <tr style=\"text-align: right;\">\n",
       "      <th></th>\n",
       "      <th>trigrams</th>\n",
       "      <th>count</th>\n",
       "      <th>pmi</th>\n",
       "    </tr>\n",
       "  </thead>\n",
       "  <tbody>\n",
       "    <tr>\n",
       "      <th>206</th>\n",
       "      <td>(indywidualna, reprezentatywna, zawartość)</td>\n",
       "      <td>5</td>\n",
       "      <td>28.491289</td>\n",
       "    </tr>\n",
       "    <tr>\n",
       "      <th>725</th>\n",
       "      <td>(podaniem, średniej, ważonej)</td>\n",
       "      <td>5</td>\n",
       "      <td>27.504163</td>\n",
       "    </tr>\n",
       "    <tr>\n",
       "      <th>460</th>\n",
       "      <td>(średniej, ważonej, zawartości)</td>\n",
       "      <td>9</td>\n",
       "      <td>27.233876</td>\n",
       "    </tr>\n",
       "    <tr>\n",
       "      <th>461</th>\n",
       "      <td>(ważonej, zawartości, tłuszczu)</td>\n",
       "      <td>9</td>\n",
       "      <td>27.068817</td>\n",
       "    </tr>\n",
       "    <tr>\n",
       "      <th>342</th>\n",
       "      <td>(reprezentatywnej, zawartości, tłuszczu)</td>\n",
       "      <td>14</td>\n",
       "      <td>26.990040</td>\n",
       "    </tr>\n",
       "    <tr>\n",
       "      <th>268</th>\n",
       "      <td>(współczynnik, przydziału, indywidualnej)</td>\n",
       "      <td>5</td>\n",
       "      <td>26.736081</td>\n",
       "    </tr>\n",
       "    <tr>\n",
       "      <th>341</th>\n",
       "      <td>(indywidualnej, reprezentatywnej, zawartości)</td>\n",
       "      <td>14</td>\n",
       "      <td>25.970675</td>\n",
       "    </tr>\n",
       "    <tr>\n",
       "      <th>267</th>\n",
       "      <td>(krajowy, współczynnik, przydziału)</td>\n",
       "      <td>5</td>\n",
       "      <td>25.946236</td>\n",
       "    </tr>\n",
       "    <tr>\n",
       "      <th>207</th>\n",
       "      <td>(reprezentatywna, zawartość, tłuszczu)</td>\n",
       "      <td>5</td>\n",
       "      <td>25.944800</td>\n",
       "    </tr>\n",
       "    <tr>\n",
       "      <th>487</th>\n",
       "      <td>(indywidualną, kwotę, mleczną)</td>\n",
       "      <td>13</td>\n",
       "      <td>25.881534</td>\n",
       "    </tr>\n",
       "  </tbody>\n",
       "</table>\n",
       "</div>"
      ],
      "text/plain": [
       "                                          trigrams  count        pmi\n",
       "206     (indywidualna, reprezentatywna, zawartość)      5  28.491289\n",
       "725                  (podaniem, średniej, ważonej)      5  27.504163\n",
       "460                (średniej, ważonej, zawartości)      9  27.233876\n",
       "461                (ważonej, zawartości, tłuszczu)      9  27.068817\n",
       "342       (reprezentatywnej, zawartości, tłuszczu)     14  26.990040\n",
       "268      (współczynnik, przydziału, indywidualnej)      5  26.736081\n",
       "341  (indywidualnej, reprezentatywnej, zawartości)     14  25.970675\n",
       "267            (krajowy, współczynnik, przydziału)      5  25.946236\n",
       "207         (reprezentatywna, zawartość, tłuszczu)      5  25.944800\n",
       "487                 (indywidualną, kwotę, mleczną)     13  25.881534"
      ]
     },
     "execution_count": 60,
     "metadata": {},
     "output_type": "execute_result"
    }
   ],
   "source": [
    "df_trigrams_spacy_filtered = df_trigrams_spacy[df_trigrams_spacy[\"count\"] >= 5]\n",
    "top_trigrams_spacy_df = df_trigrams_spacy_filtered.sort_values(by=\"pmi\", ascending=False).head(10)\n",
    "top_trigrams_spacy_df"
   ]
  },
  {
   "cell_type": "code",
   "execution_count": 61,
   "id": "342fa9ff",
   "metadata": {},
   "outputs": [
    {
     "data": {
      "text/html": [
       "<div>\n",
       "<style scoped>\n",
       "    .dataframe tbody tr th:only-of-type {\n",
       "        vertical-align: middle;\n",
       "    }\n",
       "\n",
       "    .dataframe tbody tr th {\n",
       "        vertical-align: top;\n",
       "    }\n",
       "\n",
       "    .dataframe thead th {\n",
       "        text-align: right;\n",
       "    }\n",
       "</style>\n",
       "<table border=\"1\" class=\"dataframe\">\n",
       "  <thead>\n",
       "    <tr style=\"text-align: right;\">\n",
       "      <th></th>\n",
       "      <th>trigrams</th>\n",
       "      <th>count</th>\n",
       "      <th>pmi</th>\n",
       "    </tr>\n",
       "  </thead>\n",
       "  <tbody>\n",
       "    <tr>\n",
       "      <th>212</th>\n",
       "      <td>(ważyć:ppas, zawartość:subst, tłuszcz:subst)</td>\n",
       "      <td>13</td>\n",
       "      <td>25.345933</td>\n",
       "    </tr>\n",
       "    <tr>\n",
       "      <th>208</th>\n",
       "      <td>(reprezentatywny:adj, zawartość:subst, tłuszcz...</td>\n",
       "      <td>21</td>\n",
       "      <td>24.343913</td>\n",
       "    </tr>\n",
       "    <tr>\n",
       "      <th>211</th>\n",
       "      <td>(średnia:subst, ważyć:ppas, zawartość:subst)</td>\n",
       "      <td>13</td>\n",
       "      <td>24.143377</td>\n",
       "    </tr>\n",
       "    <tr>\n",
       "      <th>269</th>\n",
       "      <td>(współczynnik:subst, przydział:subst, indywidu...</td>\n",
       "      <td>7</td>\n",
       "      <td>23.592886</td>\n",
       "    </tr>\n",
       "    <tr>\n",
       "      <th>675</th>\n",
       "      <td>(podanie:subst, średnia:subst, ważyć:ppas)</td>\n",
       "      <td>5</td>\n",
       "      <td>23.426553</td>\n",
       "    </tr>\n",
       "    <tr>\n",
       "      <th>2860</th>\n",
       "      <td>(osiem:num, osiem:num, osiem:num)</td>\n",
       "      <td>21</td>\n",
       "      <td>23.151566</td>\n",
       "    </tr>\n",
       "    <tr>\n",
       "      <th>758</th>\n",
       "      <td>(ilość:subst, mleko:subst, skupiony:adj)</td>\n",
       "      <td>10</td>\n",
       "      <td>23.029552</td>\n",
       "    </tr>\n",
       "    <tr>\n",
       "      <th>473</th>\n",
       "      <td>(podmiot:subst, skupować:pact, skupywać:pact)</td>\n",
       "      <td>33</td>\n",
       "      <td>21.900482</td>\n",
       "    </tr>\n",
       "    <tr>\n",
       "      <th>207</th>\n",
       "      <td>(indywidualny:adj, reprezentatywny:adj, zawart...</td>\n",
       "      <td>21</td>\n",
       "      <td>21.816666</td>\n",
       "    </tr>\n",
       "    <tr>\n",
       "      <th>268</th>\n",
       "      <td>(krajowy:adj, współczynnik:subst, przydział:su...</td>\n",
       "      <td>7</td>\n",
       "      <td>21.208301</td>\n",
       "    </tr>\n",
       "  </tbody>\n",
       "</table>\n",
       "</div>"
      ],
      "text/plain": [
       "                                               trigrams  count        pmi\n",
       "212        (ważyć:ppas, zawartość:subst, tłuszcz:subst)     13  25.345933\n",
       "208   (reprezentatywny:adj, zawartość:subst, tłuszcz...     21  24.343913\n",
       "211        (średnia:subst, ważyć:ppas, zawartość:subst)     13  24.143377\n",
       "269   (współczynnik:subst, przydział:subst, indywidu...      7  23.592886\n",
       "675          (podanie:subst, średnia:subst, ważyć:ppas)      5  23.426553\n",
       "2860                  (osiem:num, osiem:num, osiem:num)     21  23.151566\n",
       "758            (ilość:subst, mleko:subst, skupiony:adj)     10  23.029552\n",
       "473       (podmiot:subst, skupować:pact, skupywać:pact)     33  21.900482\n",
       "207   (indywidualny:adj, reprezentatywny:adj, zawart...     21  21.816666\n",
       "268   (krajowy:adj, współczynnik:subst, przydział:su...      7  21.208301"
      ]
     },
     "execution_count": 61,
     "metadata": {},
     "output_type": "execute_result"
    }
   ],
   "source": [
    "df_trigrams_clairn_filtered = df_trigrams_clairn[df_trigrams_clairn[\"count\"] >= 5]\n",
    "top_trigrams_clairn_df = df_trigrams_clairn_filtered.sort_values(by=\"pmi\", ascending=False).head(10)\n",
    "top_trigrams_clairn_df"
   ]
  },
  {
   "cell_type": "markdown",
   "id": "eb072208",
   "metadata": {},
   "source": [
    "# Devise a method for computing the values, based on the results for bigrams."
   ]
  },
  {
   "cell_type": "markdown",
   "id": "e31f1139",
   "metadata": {},
   "source": [
    "`\n",
    "def calculate_pmi(tokens, ngrams):\n",
    "    pmi = []\n",
    "    text_length = len(tokens)\n",
    "    for ngram, count in tqdm.tqdm(ngram.items()):\n",
    "        prob = count / text_length\n",
    "        freq = [tokens.count(t) / text_length for t in list(ngram)]\n",
    "        individual_probabilities = math.prod(freq)\n",
    "        pmi.append(math.log2(prob/individual_probabilities))\n",
    "    return pmi\n",
    "`"
   ]
  },
  {
   "cell_type": "markdown",
   "id": "83c80be5",
   "metadata": {},
   "source": [
    "# Create a table comparing the results for copora without and with tagging and lemmatization (separate table for bigrams and trigrams)."
   ]
  },
  {
   "cell_type": "code",
   "execution_count": 62,
   "id": "4ff276b2",
   "metadata": {},
   "outputs": [
    {
     "data": {
      "text/html": [
       "<div>\n",
       "<style scoped>\n",
       "    .dataframe tbody tr th:only-of-type {\n",
       "        vertical-align: middle;\n",
       "    }\n",
       "\n",
       "    .dataframe tbody tr th {\n",
       "        vertical-align: top;\n",
       "    }\n",
       "\n",
       "    .dataframe thead th {\n",
       "        text-align: right;\n",
       "    }\n",
       "</style>\n",
       "<table border=\"1\" class=\"dataframe\">\n",
       "  <thead>\n",
       "    <tr style=\"text-align: right;\">\n",
       "      <th></th>\n",
       "      <th>bigrams</th>\n",
       "      <th>count</th>\n",
       "      <th>pmi</th>\n",
       "      <th>bigrams</th>\n",
       "      <th>count</th>\n",
       "      <th>pmi</th>\n",
       "    </tr>\n",
       "  </thead>\n",
       "  <tbody>\n",
       "    <tr>\n",
       "      <th>0</th>\n",
       "      <td>(przetwory, mleczne)</td>\n",
       "      <td>8</td>\n",
       "      <td>15.247118</td>\n",
       "      <td>(skupować:pact, skupywać:pact)</td>\n",
       "      <td>33</td>\n",
       "      <td>12.399572</td>\n",
       "    </tr>\n",
       "    <tr>\n",
       "      <th>1</th>\n",
       "      <td>(indywidualna, reprezentatywna)</td>\n",
       "      <td>5</td>\n",
       "      <td>15.177383</td>\n",
       "      <td>(średnia:subst, ważyć:ppas)</td>\n",
       "      <td>14</td>\n",
       "      <td>11.825854</td>\n",
       "    </tr>\n",
       "    <tr>\n",
       "      <th>2</th>\n",
       "      <td>(średniej, ważonej)</td>\n",
       "      <td>9</td>\n",
       "      <td>13.694577</td>\n",
       "      <td>(mleko:subst, skupiony:adj)</td>\n",
       "      <td>10</td>\n",
       "      <td>11.360357</td>\n",
       "    </tr>\n",
       "    <tr>\n",
       "      <th>3</th>\n",
       "      <td>(dostawcy, hurtowemu)</td>\n",
       "      <td>6</td>\n",
       "      <td>13.207590</td>\n",
       "      <td>(współczynnik:subst, przydział:subst)</td>\n",
       "      <td>7</td>\n",
       "      <td>11.226653</td>\n",
       "    </tr>\n",
       "    <tr>\n",
       "      <th>4</th>\n",
       "      <td>(mlecznej, przeznaczonej)</td>\n",
       "      <td>28</td>\n",
       "      <td>12.940582</td>\n",
       "      <td>(zawartość:subst, tłuszcz:subst)</td>\n",
       "      <td>40</td>\n",
       "      <td>10.658903</td>\n",
       "    </tr>\n",
       "    <tr>\n",
       "      <th>5</th>\n",
       "      <td>(podmiotom, skupującym)</td>\n",
       "      <td>5</td>\n",
       "      <td>12.916970</td>\n",
       "      <td>(przetwór:subst, mleczny:adj)</td>\n",
       "      <td>25</td>\n",
       "      <td>10.562416</td>\n",
       "    </tr>\n",
       "    <tr>\n",
       "      <th>6</th>\n",
       "      <td>(dostawców, hurtowych)</td>\n",
       "      <td>40</td>\n",
       "      <td>12.715336</td>\n",
       "      <td>(dostawca:subst, hurtowy:adj)</td>\n",
       "      <td>71</td>\n",
       "      <td>10.478294</td>\n",
       "    </tr>\n",
       "    <tr>\n",
       "      <th>7</th>\n",
       "      <td>(współczynnik, przydziału)</td>\n",
       "      <td>5</td>\n",
       "      <td>12.588499</td>\n",
       "      <td>(ważyć:ppas, zawartość:subst)</td>\n",
       "      <td>13</td>\n",
       "      <td>10.452452</td>\n",
       "    </tr>\n",
       "    <tr>\n",
       "      <th>8</th>\n",
       "      <td>(indywidualnej, reprezentatywnej)</td>\n",
       "      <td>14</td>\n",
       "      <td>12.431376</td>\n",
       "      <td>(odtłuścić:ppas, mleko:subst)</td>\n",
       "      <td>5</td>\n",
       "      <td>10.074955</td>\n",
       "    </tr>\n",
       "    <tr>\n",
       "      <th>9</th>\n",
       "      <td>(dostawcę, hurtowego)</td>\n",
       "      <td>6</td>\n",
       "      <td>12.292479</td>\n",
       "      <td>(osiem:num, osiem:num)</td>\n",
       "      <td>22</td>\n",
       "      <td>9.638616</td>\n",
       "    </tr>\n",
       "  </tbody>\n",
       "</table>\n",
       "</div>"
      ],
      "text/plain": [
       "                             bigrams  count        pmi  \\\n",
       "0               (przetwory, mleczne)      8  15.247118   \n",
       "1    (indywidualna, reprezentatywna)      5  15.177383   \n",
       "2                (średniej, ważonej)      9  13.694577   \n",
       "3              (dostawcy, hurtowemu)      6  13.207590   \n",
       "4          (mlecznej, przeznaczonej)     28  12.940582   \n",
       "5            (podmiotom, skupującym)      5  12.916970   \n",
       "6             (dostawców, hurtowych)     40  12.715336   \n",
       "7         (współczynnik, przydziału)      5  12.588499   \n",
       "8  (indywidualnej, reprezentatywnej)     14  12.431376   \n",
       "9              (dostawcę, hurtowego)      6  12.292479   \n",
       "\n",
       "                                 bigrams  count        pmi  \n",
       "0         (skupować:pact, skupywać:pact)     33  12.399572  \n",
       "1            (średnia:subst, ważyć:ppas)     14  11.825854  \n",
       "2            (mleko:subst, skupiony:adj)     10  11.360357  \n",
       "3  (współczynnik:subst, przydział:subst)      7  11.226653  \n",
       "4       (zawartość:subst, tłuszcz:subst)     40  10.658903  \n",
       "5          (przetwór:subst, mleczny:adj)     25  10.562416  \n",
       "6          (dostawca:subst, hurtowy:adj)     71  10.478294  \n",
       "7          (ważyć:ppas, zawartość:subst)     13  10.452452  \n",
       "8          (odtłuścić:ppas, mleko:subst)      5  10.074955  \n",
       "9                 (osiem:num, osiem:num)     22   9.638616  "
      ]
     },
     "execution_count": 62,
     "metadata": {},
     "output_type": "execute_result"
    }
   ],
   "source": [
    "pd.concat([top_bigrams_spacy_df.reset_index(drop=True), top_bigrams_clairn_df.reset_index(drop=True)], axis=1)"
   ]
  },
  {
   "cell_type": "code",
   "execution_count": 63,
   "id": "e58570c5",
   "metadata": {},
   "outputs": [
    {
     "data": {
      "text/html": [
       "<div>\n",
       "<style scoped>\n",
       "    .dataframe tbody tr th:only-of-type {\n",
       "        vertical-align: middle;\n",
       "    }\n",
       "\n",
       "    .dataframe tbody tr th {\n",
       "        vertical-align: top;\n",
       "    }\n",
       "\n",
       "    .dataframe thead th {\n",
       "        text-align: right;\n",
       "    }\n",
       "</style>\n",
       "<table border=\"1\" class=\"dataframe\">\n",
       "  <thead>\n",
       "    <tr style=\"text-align: right;\">\n",
       "      <th></th>\n",
       "      <th>trigrams</th>\n",
       "      <th>count</th>\n",
       "      <th>pmi</th>\n",
       "      <th>trigrams</th>\n",
       "      <th>count</th>\n",
       "      <th>pmi</th>\n",
       "    </tr>\n",
       "  </thead>\n",
       "  <tbody>\n",
       "    <tr>\n",
       "      <th>0</th>\n",
       "      <td>(indywidualna, reprezentatywna, zawartość)</td>\n",
       "      <td>5</td>\n",
       "      <td>28.491289</td>\n",
       "      <td>(ważyć:ppas, zawartość:subst, tłuszcz:subst)</td>\n",
       "      <td>13</td>\n",
       "      <td>25.345933</td>\n",
       "    </tr>\n",
       "    <tr>\n",
       "      <th>1</th>\n",
       "      <td>(podaniem, średniej, ważonej)</td>\n",
       "      <td>5</td>\n",
       "      <td>27.504163</td>\n",
       "      <td>(reprezentatywny:adj, zawartość:subst, tłuszcz...</td>\n",
       "      <td>21</td>\n",
       "      <td>24.343913</td>\n",
       "    </tr>\n",
       "    <tr>\n",
       "      <th>2</th>\n",
       "      <td>(średniej, ważonej, zawartości)</td>\n",
       "      <td>9</td>\n",
       "      <td>27.233876</td>\n",
       "      <td>(średnia:subst, ważyć:ppas, zawartość:subst)</td>\n",
       "      <td>13</td>\n",
       "      <td>24.143377</td>\n",
       "    </tr>\n",
       "    <tr>\n",
       "      <th>3</th>\n",
       "      <td>(ważonej, zawartości, tłuszczu)</td>\n",
       "      <td>9</td>\n",
       "      <td>27.068817</td>\n",
       "      <td>(współczynnik:subst, przydział:subst, indywidu...</td>\n",
       "      <td>7</td>\n",
       "      <td>23.592886</td>\n",
       "    </tr>\n",
       "    <tr>\n",
       "      <th>4</th>\n",
       "      <td>(reprezentatywnej, zawartości, tłuszczu)</td>\n",
       "      <td>14</td>\n",
       "      <td>26.990040</td>\n",
       "      <td>(podanie:subst, średnia:subst, ważyć:ppas)</td>\n",
       "      <td>5</td>\n",
       "      <td>23.426553</td>\n",
       "    </tr>\n",
       "    <tr>\n",
       "      <th>5</th>\n",
       "      <td>(współczynnik, przydziału, indywidualnej)</td>\n",
       "      <td>5</td>\n",
       "      <td>26.736081</td>\n",
       "      <td>(osiem:num, osiem:num, osiem:num)</td>\n",
       "      <td>21</td>\n",
       "      <td>23.151566</td>\n",
       "    </tr>\n",
       "    <tr>\n",
       "      <th>6</th>\n",
       "      <td>(indywidualnej, reprezentatywnej, zawartości)</td>\n",
       "      <td>14</td>\n",
       "      <td>25.970675</td>\n",
       "      <td>(ilość:subst, mleko:subst, skupiony:adj)</td>\n",
       "      <td>10</td>\n",
       "      <td>23.029552</td>\n",
       "    </tr>\n",
       "    <tr>\n",
       "      <th>7</th>\n",
       "      <td>(krajowy, współczynnik, przydziału)</td>\n",
       "      <td>5</td>\n",
       "      <td>25.946236</td>\n",
       "      <td>(podmiot:subst, skupować:pact, skupywać:pact)</td>\n",
       "      <td>33</td>\n",
       "      <td>21.900482</td>\n",
       "    </tr>\n",
       "    <tr>\n",
       "      <th>8</th>\n",
       "      <td>(reprezentatywna, zawartość, tłuszczu)</td>\n",
       "      <td>5</td>\n",
       "      <td>25.944800</td>\n",
       "      <td>(indywidualny:adj, reprezentatywny:adj, zawart...</td>\n",
       "      <td>21</td>\n",
       "      <td>21.816666</td>\n",
       "    </tr>\n",
       "    <tr>\n",
       "      <th>9</th>\n",
       "      <td>(indywidualną, kwotę, mleczną)</td>\n",
       "      <td>13</td>\n",
       "      <td>25.881534</td>\n",
       "      <td>(krajowy:adj, współczynnik:subst, przydział:su...</td>\n",
       "      <td>7</td>\n",
       "      <td>21.208301</td>\n",
       "    </tr>\n",
       "  </tbody>\n",
       "</table>\n",
       "</div>"
      ],
      "text/plain": [
       "                                        trigrams  count        pmi  \\\n",
       "0     (indywidualna, reprezentatywna, zawartość)      5  28.491289   \n",
       "1                  (podaniem, średniej, ważonej)      5  27.504163   \n",
       "2                (średniej, ważonej, zawartości)      9  27.233876   \n",
       "3                (ważonej, zawartości, tłuszczu)      9  27.068817   \n",
       "4       (reprezentatywnej, zawartości, tłuszczu)     14  26.990040   \n",
       "5      (współczynnik, przydziału, indywidualnej)      5  26.736081   \n",
       "6  (indywidualnej, reprezentatywnej, zawartości)     14  25.970675   \n",
       "7            (krajowy, współczynnik, przydziału)      5  25.946236   \n",
       "8         (reprezentatywna, zawartość, tłuszczu)      5  25.944800   \n",
       "9                 (indywidualną, kwotę, mleczną)     13  25.881534   \n",
       "\n",
       "                                            trigrams  count        pmi  \n",
       "0       (ważyć:ppas, zawartość:subst, tłuszcz:subst)     13  25.345933  \n",
       "1  (reprezentatywny:adj, zawartość:subst, tłuszcz...     21  24.343913  \n",
       "2       (średnia:subst, ważyć:ppas, zawartość:subst)     13  24.143377  \n",
       "3  (współczynnik:subst, przydział:subst, indywidu...      7  23.592886  \n",
       "4         (podanie:subst, średnia:subst, ważyć:ppas)      5  23.426553  \n",
       "5                  (osiem:num, osiem:num, osiem:num)     21  23.151566  \n",
       "6           (ilość:subst, mleko:subst, skupiony:adj)     10  23.029552  \n",
       "7      (podmiot:subst, skupować:pact, skupywać:pact)     33  21.900482  \n",
       "8  (indywidualny:adj, reprezentatywny:adj, zawart...     21  21.816666  \n",
       "9  (krajowy:adj, współczynnik:subst, przydział:su...      7  21.208301  "
      ]
     },
     "execution_count": 63,
     "metadata": {},
     "output_type": "execute_result"
    }
   ],
   "source": [
    "pd.concat([top_trigrams_spacy_df.reset_index(drop=True), top_trigrams_clairn_df.reset_index(drop=True)], axis=1)"
   ]
  },
  {
   "cell_type": "markdown",
   "id": "2320ebdf",
   "metadata": {},
   "source": [
    "# Why do we have to filter the bigrams, rather than the token sequence?\n",
    "# Which method works better for the bigrams and which for the trigrams?\n",
    "# What types of expressions are discovered by the methods.\n",
    "# Can you devise a different type of filtering that would yield better results?\n"
   ]
  },
  {
   "cell_type": "code",
   "execution_count": null,
   "id": "75a3379c",
   "metadata": {},
   "outputs": [],
   "source": []
  }
 ],
 "metadata": {
  "kernelspec": {
   "display_name": "Python 3 (ipykernel)",
   "language": "python",
   "name": "python3"
  },
  "language_info": {
   "codemirror_mode": {
    "name": "ipython",
    "version": 3
   },
   "file_extension": ".py",
   "mimetype": "text/x-python",
   "name": "python",
   "nbconvert_exporter": "python",
   "pygments_lexer": "ipython3",
   "version": "3.10.6"
  }
 },
 "nbformat": 4,
 "nbformat_minor": 5
}
